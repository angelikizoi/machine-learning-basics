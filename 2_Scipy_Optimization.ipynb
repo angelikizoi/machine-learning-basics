{
 "cells": [
  {
   "cell_type": "code",
   "execution_count": 14,
   "metadata": {},
   "outputs": [],
   "source": [
    "from scipy.spatial.distance import cdist\n",
    "from scipy import optimize\n",
    "import numpy as np"
   ]
  },
  {
   "cell_type": "markdown",
   "metadata": {},
   "source": [
    "### Solving a Linear Programming Problem with `scipy.optimize.linprog`\n",
    "\n",
    "The following Python code demonstrates solving a linear programming (LP) problem using the `scipy.optimize.linprog` function. The problem aims to **maximize** the objective function under given constraints.\n",
    "\n",
    "- **Objective Function**: Maximize \\(3x + 2y\\). Since `linprog` minimizes by default, the coefficients are negated: `c = [-3, -2]`.\n",
    "\n",
    "- **Constraints**:\n",
    "  - \\(x + y ≤ 10\\)\n",
    "  - \\(2x + y ≤ 16\\)\n",
    "  These inequalities are represented by matrix `A` for the coefficients and vector `b` for the right-hand sides.\n",
    "\n",
    "- **Variable Bounds**:\n",
    "  - \\(x > 0\\) (strictly positive), with a lower bound of 0.0001.\n",
    "  - \\(y ≥ 0\\) (non-negative), with no upper bounds.\n",
    "\n",
    "- **Method**: The `highs` algorithm is used for solving the LP problem.\n",
    "\n",
    "- **Output**: \n",
    "  - The optimal values of \\(x\\) and \\(y\\) are printed.\n",
    "  - The optimal objective value (maximum) is printed as `-res.fun` to convert the minimization back into a maximization.\n"
   ]
  },
  {
   "cell_type": "code",
   "execution_count": null,
   "metadata": {},
   "outputs": [],
   "source": [
    "# Define the coefficients of the objective function\n",
    "c = [-3, -2]  # We use negative values because linprog minimizes by default\n",
    "\n",
    "# Define the coefficients of the inequality constraints (left-hand side)\n",
    "A = [[1, 1], [2, 1]]  # Coefficients of constraints\n",
    "b = [10, 16]  # Right-hand side of constraints\n",
    "\n",
    "# Define the bounds for variables\n",
    "x_bounds = (0.0001, None)  # x > 0 (strictly positive)\n",
    "y_bounds = (0, None)  # y >= 0\n",
    "\n",
    "# Solve the linear programming problem\n",
    "res = optimize.linprog(c, A_ub=A, b_ub=b, bounds=[x_bounds, y_bounds], method='highs')\n",
    "\n",
    "# Print the optimal solution\n",
    "print(\"Optimal solution:\")\n",
    "print(\"x =\", res.x[0])\n",
    "print(\"y =\", res.x[1])\n",
    "\n",
    "# Print the optimal objective value (maximum)\n",
    "print(\"Optimal objective value (maximum):\", -res.fun)"
   ]
  },
  {
   "cell_type": "markdown",
   "metadata": {},
   "source": [
    "### Product Selection for Maximum Performance\n",
    "Let’s now consider a situation where we have data on product performance and need to optimize the selection of products to maximize overall performance while staying within a specified budget.\n",
    "\n",
    "Suppose we have five products, each with a performance rating and a cost.\n",
    "The goal is to maximize the total performance rating, with the constraint that the total cost does not exceed $300,000. This can be formulated as a linear programming problem."
   ]
  },
  {
   "cell_type": "code",
   "execution_count": null,
   "metadata": {},
   "outputs": [],
   "source": [
    "products = ['Product A', 'Product B', 'Product C', 'Product D', 'Product E']\n",
    "performance = [94, 92, 91, 90, 89]  # Performance rating (out of 100)\n",
    "cost = [120, 110, 105, 100, 95]  # Cost in thousands of dollars\n",
    "# Define the coefficients of the objective function\n",
    "c = [-1 * p for p in performance]  # We multiply by -1 as linprog performs minimization by default\n",
    "\n",
    "# Define the coefficients of the inequality constraints\n",
    "A = [cost]\n",
    "\n",
    "# Define the upper bound of the inequality constraints\n",
    "b = [300]\n",
    "\n",
    "# Define the bounds for the variables\n",
    "x_bounds = [(0, 1) for product in products]\n",
    "\n",
    "# Solve the linear programming problem\n",
    "res = optimize.linprog(c, A_ub=A, b_ub=b, bounds=x_bounds, method='highs')\n",
    "\n",
    "# Print the optimal solution\n",
    "print(\"Optimal solution:\", res.x)"
   ]
  },
  {
   "cell_type": "markdown",
   "metadata": {},
   "source": [
    "### Optimal Task Assignment Using the Hungarian Algorithm (restrained resources)\n",
    "\n",
    "This Python code demonstrates how to optimally assign employees to tasks based on their performance using the **Hungarian algorithm** (also known as the assignment problem), implemented by `scipy.optimize.linear_sum_assignment`.\n",
    "\n",
    "- **Input Data**:\n",
    "  - `employees`: A list of employees (`['Alice', 'Bob', 'Charlie']`).\n",
    "  - `performance_task1` and `performance_task2`: Performance ratings for each employee in two tasks.\n",
    "\n",
    "- **Assignment of Rows and Columns**:\n",
    "  - **Tasks as Rows**: There are 2 tasks and 3 employees, which means there are fewer tasks than employees. In such cases, we represent tasks as rows to ensure that every task gets assigned.\n",
    "  - **Employees as Columns**: Employees are represented by columns. Since there are more employees than tasks, not all employees need to be assigned a task. The algorithm will choose the employees that result in the best overall performance for the tasks.\n",
    "  \n",
    "This setup ensures that all tasks (the constrained resource) are assigned while allowing flexibility in selecting the optimal employees.\n",
    "  \n",
    "- **Cost Matrix**: The performance ratings are used to form a cost matrix. Since the `linear_sum_assignment` function minimizes the cost, we negate the performance values to treat high performance as low cost: `cost = -1 * np.array([performance_task1, performance_task2])`.\n",
    "\n",
    "- **Assignment Algorithm**: \n",
    "  - The `linear_sum_assignment` function is used to determine the optimal assignment of employees to tasks that minimizes the \"cost\" (which, in this case, maximizes performance).\n",
    "\n",
    "- **Output**:\n",
    "  - The code iterates through the optimal assignments (`row_ind`, `col_ind`) and prints which employee is assigned to which task. Tasks are labeled based on their respective performance data."
   ]
  },
  {
   "cell_type": "code",
   "execution_count": null,
   "metadata": {},
   "outputs": [],
   "source": [
    "employees = ['Alice', 'Bob', 'Charlie']\n",
    "performance_task1 = [94, 88, 90]  # Performance rating in task 1\n",
    "performance_task2 = [92, 91, 93]  # Performance rating in task 2\n",
    "\n",
    "cost = -1 * np.array([performance_task1, performance_task2])\n",
    "row_ind, col_ind = optimize.linear_sum_assignment(cost)\n",
    "for row, col in zip(row_ind, col_ind):\n",
    "    employee = employees[col]\n",
    "    task = 'Task 1' if row == 0 else 'Task 2'\n",
    "    print(f\"{employee} assigned to {task}\")"
   ]
  },
  {
   "cell_type": "markdown",
   "metadata": {},
   "source": [
    "### Optimal Truck Assignment to Locations Using the Hungarian Algorithm and Euclidean Distances\n",
    "\n",
    "This Python code solves the problem of assigning trucks to optimal locations to minimize total travel distance, using the **Hungarian algorithm** via `scipy.optimize.linear_sum_assignment`.\n",
    "\n",
    "#### Problem Setup:\n",
    "- **Trucks**: Truck 1, Truck 2, Truck 3\n",
    "- **Initial Locations**: (1, 1), (3, 2), (4, 1)\n",
    "- **Optimal Locations**: (2, 2), (4, 3), (3, 1)\n",
    "\n",
    "#### Distance Matrix:\n",
    "The **distance matrix** is calculated using `cdist` to compute the Euclidean distances between trucks' initial locations and optimal locations.\n",
    "\n",
    "#### Hungarian Algorithm:\n",
    "The `linear_sum_assignment` function returns the optimal truck-to-location assignments (`row_ind` for trucks and `col_ind` for locations), minimizing the total travel distance.\n",
    "\n",
    "#### Example Output:\n",
    "If `row_ind = [0, 1, 2]` and `col_ind = [2, 0, 1]`:\n",
    "- **Truck 1** is assigned to **Location 3**.\n",
    "- **Truck 2** is assigned to **Location 1**.\n",
    "- **Truck 3** is assigned to **Location 2**.\n",
    "\n",
    "The total distance traveled by all trucks is then printed."
   ]
  },
  {
   "cell_type": "code",
   "execution_count": null,
   "metadata": {},
   "outputs": [],
   "source": [
    "trucks = ['Truck 1', 'Truck 2', 'Truck 3']\n",
    "initial_locations = [(1, 1), (3, 2), (4, 1)]  # (x, y) coordinates\n",
    "optimal_locations = [(2, 2), (4, 3), (3, 1)]\n",
    "distances = cdist(initial_locations, optimal_locations)\n",
    "\n",
    "# Solve the assignment problem\n",
    "row_ind, col_ind = optimize.linear_sum_assignment(distances)\n",
    "# Print optimal assignment and total distance\n",
    "total_distance = 0\n",
    "for row, col in zip(row_ind, col_ind):\n",
    "    truck = trucks[row]\n",
    "    distance = distances[row, col]\n",
    "    total_distance += distance\n",
    "    print(f\"{truck} assigned to location {optimal_locations[col]} with distance {distance}\")\n",
    "\n",
    "print(f\"Total distance: {total_distance}\")"
   ]
  },
  {
   "cell_type": "markdown",
   "metadata": {},
   "source": [
    "## More Examples - Practice Problems"
   ]
  },
  {
   "cell_type": "markdown",
   "metadata": {},
   "source": [
    "### Linear Programming Problem: Maximizing Profit\n",
    "\n",
    "You are tasked with solving a linear programming problem where the objective is to **maximize profit** given a set of constraints.\n",
    "\n",
    "#### Problem Setup:\n",
    "- **Profit coefficients**: \n",
    "  - The profit for product \\(x\\) is 10.\n",
    "  - The profit for product \\(y\\) is 12.\n",
    "  \n",
    "- **Constraints**: The production of \\(x\\) and \\(y\\) is subject to the following constraints:\n",
    "  1. \\(2x + 3y ≤ 100\\)\n",
    "  2. \\(x + 2y ≤ 90\\)\n",
    "  3. \\(4x + 3y ≤ 160\\)\n",
    "\n",
    "- **Bounds**: \n",
    "  - Both \\(x\\) and \\(y\\) must be non-negative (\\(x, y ≥ 0\\)).\n",
    "\n",
    "#### Objective:\n",
    "Maximize the total profit \\(10x + 12y\\) subject to the given constraints."
   ]
  },
  {
   "cell_type": "code",
   "execution_count": null,
   "metadata": {},
   "outputs": [],
   "source": [
    "profit = [10,12]\n",
    "A = [[2,3],[1,2],[4,3]]\n",
    "b = [100,90,160]\n",
    "profit_max = [-1*p for p in profit]\n",
    "\n",
    "x_bounds = (0,None)\n",
    "y_bounds = (0,None)\n",
    "\n",
    "res = optimize.linprog(profit_max, A_ub=A, b_ub=b, bounds=[x_bounds,y_bounds], method='highs')\n",
    "\n",
    "# Print the optimal solution\n",
    "print(\"Optimal solution:\")\n",
    "print(\"x =\", res.x[0])\n",
    "print(\"y =\", res.x[1])\n",
    "\n",
    "# Print the optimal objective value (maximum)\n",
    "print(\"Optimal objective value (maximum):\", -res.fun)"
   ]
  },
  {
   "cell_type": "markdown",
   "metadata": {},
   "source": [
    "### Facility Location Assignment Problem\n",
    "\n",
    "You are tasked with solving a facility location assignment problem, where the objective is to assign customers to the nearest facilities in order to minimize the total distance traveled.\n",
    "\n",
    "#### Problem Setup:\n",
    "- **Facility Locations**: Three potential facility locations are given:\n",
    "  - \\(F1\\) at (2, 3)\n",
    "  - \\(F2\\) at (5, 8)\n",
    "  - \\(F3\\) at (9, 6)\n",
    "\n",
    "- **Customer Locations**: Five customer locations are given:\n",
    "  - \\(C1\\) at (1, 1)\n",
    "  - \\(C2\\) at (4, 5)\n",
    "  - \\(C3\\) at (7, 2)\n",
    "  - \\(C4\\) at (3, 6)\n",
    "  - \\(C5\\) at (8, 7)\n",
    "\n",
    "#### Objective:\n",
    "Minimize the total Euclidean distance between customers and assigned facilities, ensuring that each facility is assigned to exactly one customer."
   ]
  },
  {
   "cell_type": "code",
   "execution_count": null,
   "metadata": {},
   "outputs": [],
   "source": [
    "# Coordinates of facility locations (F1, F2, F3)\n",
    "facilities = np.array([\n",
    "    [2, 3],\n",
    "    [5, 8],\n",
    "    [9, 6]\n",
    "])\n",
    "\n",
    "# Coordinates of potential customer locations (C1, C2, C3, C4, C5)\n",
    "customers = np.array([\n",
    "    [1, 1],\n",
    "    [4, 5],\n",
    "    [7, 2],\n",
    "    [3, 6],\n",
    "    [8, 7]\n",
    "])\n",
    "\n",
    "distances = cdist(facilities, customers, metric='euclidean')\n",
    "row_ind, col_ind = optimize.linear_sum_assignment(distances)\n",
    "\n",
    "total_distance = 0\n",
    "for facility_idx, customer_idx in zip(row_ind, col_ind):\n",
    "    customer_name = f\"C{customer_idx + 1}\"\n",
    "    facility_name = f\"F{facility_idx + 1}\"\n",
    "    distance = distances[facility_idx, customer_idx]\n",
    "    total_distance += distance\n",
    "    print(f\"{facility_name} assigned to {customer_name} with distance {distance:.2f} km\")\n",
    "\n",
    "print(f\"\\nTotal minimum distance: {total_distance:.2f} km\")\n"
   ]
  }
 ],
 "metadata": {
  "kernelspec": {
   "display_name": "dataanalytics",
   "language": "python",
   "name": "python3"
  },
  "language_info": {
   "codemirror_mode": {
    "name": "ipython",
    "version": 3
   },
   "file_extension": ".py",
   "mimetype": "text/x-python",
   "name": "python",
   "nbconvert_exporter": "python",
   "pygments_lexer": "ipython3",
   "version": "3.12.4"
  }
 },
 "nbformat": 4,
 "nbformat_minor": 2
}
