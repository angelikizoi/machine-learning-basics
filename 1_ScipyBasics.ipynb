{
 "cells": [
  {
   "cell_type": "markdown",
   "metadata": {},
   "source": [
    "# Checking the normal distribution (T-test)"
   ]
  },
  {
   "cell_type": "code",
   "execution_count": 2,
   "metadata": {},
   "outputs": [
    {
     "name": "stdout",
     "output_type": "stream",
     "text": [
      "The average age is 30.5 years.\n",
      "p = 0.79019\n",
      "The null hypothesis cannot be rejected; the age is normally distributed.\n"
     ]
    },
    {
     "name": "stderr",
     "output_type": "stream",
     "text": [
      "c:\\Users\\angel\\Anaconda\\envs\\dataanalytics\\Lib\\site-packages\\scipy\\stats\\_axis_nan_policy.py:531: UserWarning: kurtosistest only valid for n>=20 ... continuing anyway, n=8\n",
      "  res = hypotest_fun_out(*samples, **kwds)\n"
     ]
    }
   ],
   "source": [
    "import pandas as pd\n",
    "import numpy as np\n",
    "from scipy import stats\n",
    "\n",
    "# Define the DataFrame\n",
    "data = {'Name': ['John', 'Jane', 'Jack', 'Jill', 'Joe', 'Joachim', 'Jackson', 'Jerry'],\n",
    "        'Age': [34, 36, 29, 22, 29, 26, 27, 41]}\n",
    "df = pd.DataFrame(data)\n",
    "\n",
    "# Compute the average age\n",
    "average_age = np.mean(df['Age'])\n",
    "print(f\"The average age is {average_age} years.\")\n",
    "\n",
    "# Test if the age distribution is normal\n",
    "k2, p = stats.normaltest(df['Age'])\n",
    "alpha = 0.05  # Significance level\n",
    "print(f\"p = {p:.5f}\")\n",
    "if p < alpha:\n",
    "    print(\"The null hypothesis can be rejected; the age is not normally distributed.\")\n",
    "else:\n",
    "    print(\"The null hypothesis cannot be rejected; the age is normally distributed.\")"
   ]
  },
  {
   "cell_type": "markdown",
   "metadata": {},
   "source": [
    "# Independent Samples T-test"
   ]
  },
  {
   "cell_type": "code",
   "execution_count": 3,
   "metadata": {},
   "outputs": [
    {
     "name": "stdout",
     "output_type": "stream",
     "text": [
      "T-statistic:  -0.5\n",
      "P-value:  0.6305360755569764\n",
      "The null hypothesis cannot be rejected; there is no statistically significant difference between the means of the two groups.\n"
     ]
    }
   ],
   "source": [
    "# Data samples for group 1 and group 2\n",
    "group1 = np.array([30, 40, 50, 60, 70])\n",
    "group2 = np.array([35, 45, 55, 65, 75])\n",
    "\n",
    "# Perform independent samples t-test\n",
    "t_statistic, p_value = stats.ttest_ind(group1, group2)\n",
    "\n",
    "print(\"T-statistic: \", t_statistic)\n",
    "print(\"P-value: \", p_value)\n",
    "if p_value < 0.05: #Significance level=0.05\n",
    "    print(\"The null hypothesis can be rejected; there is statistically significant difference between the means of the two groups.\")\n",
    "else:\n",
    "    print(\"The null hypothesis cannot be rejected; any differences might have occurred by chance, implying they are not statistically significant.\")"
   ]
  },
  {
   "cell_type": "markdown",
   "metadata": {},
   "source": [
    "# Linear Equations"
   ]
  },
  {
   "cell_type": "markdown",
   "metadata": {},
   "source": [
    "Suppose we want to solve the following equations:\n",
    "3*x1 + 2*x2 = 2 and x1 + x2 = 2\n",
    "\n",
    "These equations can be represented in matrix form as AX = B, where:\n",
    "A = [[3, 2], [1, 1]] \n",
    "X = [[x1], [x2]] \n",
    "B = [[2], [2]]"
   ]
  },
  {
   "cell_type": "code",
   "execution_count": 4,
   "metadata": {},
   "outputs": [
    {
     "name": "stdout",
     "output_type": "stream",
     "text": [
      "Solutions:\n",
      " [[-2.]\n",
      " [ 4.]]\n"
     ]
    }
   ],
   "source": [
    "from scipy import linalg\n",
    "\n",
    "# Define matrix A using Numpy arrays\n",
    "A = np.array([[3, 2], [1, 1]])\n",
    "\n",
    "# Define matrix B\n",
    "B = np.array([[2], [2]])\n",
    "\n",
    "# Solve for the variables using scipy.linalg.solve()\n",
    "X = linalg.solve(A, B)\n",
    "\n",
    "print(\"Solutions:\\n\", X)"
   ]
  }
 ],
 "metadata": {
  "kernelspec": {
   "display_name": "dataanalytics",
   "language": "python",
   "name": "python3"
  },
  "language_info": {
   "codemirror_mode": {
    "name": "ipython",
    "version": 3
   },
   "file_extension": ".py",
   "mimetype": "text/x-python",
   "name": "python",
   "nbconvert_exporter": "python",
   "pygments_lexer": "ipython3",
   "version": "3.12.4"
  }
 },
 "nbformat": 4,
 "nbformat_minor": 2
}
