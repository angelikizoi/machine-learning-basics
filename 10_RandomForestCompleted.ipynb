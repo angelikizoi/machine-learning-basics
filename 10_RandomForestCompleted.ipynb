{
 "cells": [
  {
   "cell_type": "markdown",
   "metadata": {},
   "source": [
    "# Data Processing and Model Tuning\n",
    "\n",
    "In this notebook, we will explore how to preprocess data and tune a machine learning model to achieve optimal performance. The process will include:\n",
    "- Data cleaning and transformation\n",
    "- Feature selection and scaling\n",
    "- Model selection and hyperparameter tuning\n",
    "\n",
    "We'll demonstrate these steps using a real-world dataset and employ techniques like GridSearchCV for model tuning.\n"
   ]
  },
  {
   "cell_type": "markdown",
   "metadata": {},
   "source": [
    "### Step 1. Import Necessary Libraries & Loading the Data\n"
   ]
  },
  {
   "cell_type": "code",
   "execution_count": 18,
   "metadata": {},
   "outputs": [],
   "source": [
    "import pandas as pd\n",
    "import numpy as np\n",
    "from sklearn.preprocessing import MinMaxScaler\n",
    "from sklearn.ensemble import RandomForestClassifier\n",
    "from sklearn.model_selection import cross_val_score\n",
    "from sklearn.model_selection import StratifiedKFold\n",
    "from sklearn.model_selection import GridSearchCV\n",
    "import matplotlib.pyplot as plt"
   ]
  },
  {
   "cell_type": "code",
   "execution_count": 2,
   "metadata": {},
   "outputs": [],
   "source": [
    "train_data = pd.read_csv(\"https://storage.googleapis.com/courses_data/Machine%20Learning%20Titanic/train.csv\")\n",
    "test_data = pd.read_csv(\"https://storage.googleapis.com/courses_data/Machine%20Learning%20Titanic/test.csv\")"
   ]
  },
  {
   "cell_type": "markdown",
   "metadata": {},
   "source": [
    "the train set has 891 observations (passengers) and 12 features (columns). The test set contains 418 observations but 11 features. The target column is named 'Survived' and indicates if a passenger survived the shipwreck."
   ]
  },
  {
   "cell_type": "markdown",
   "metadata": {},
   "source": [
    "### Step 2. Data Cleansing"
   ]
  },
  {
   "cell_type": "markdown",
   "metadata": {},
   "source": [
    "- Obtain an initial overview of our data, including its completeness and data types."
   ]
  },
  {
   "cell_type": "code",
   "execution_count": null,
   "metadata": {},
   "outputs": [],
   "source": [
    "print(train_data.info())\n",
    "print(\"\\n\")\n",
    "print(test_data.info())"
   ]
  },
  {
   "cell_type": "markdown",
   "metadata": {},
   "source": [
    "Columns 'Cabin', 'Age', 'Fare' and Embarked have missing values (NaN).\n",
    "The decision regarding the management of the missing values is usually made based on the number of missing values in relation to the total dataset."
   ]
  },
  {
   "cell_type": "code",
   "execution_count": 3,
   "metadata": {},
   "outputs": [],
   "source": [
    "\"\"\"\n",
    "First, we decide to completely remove the 'Cabin' column, \n",
    "which has quite limited information, \n",
    "and the missing values outnumber the existing ones.\n",
    "\"\"\"\n",
    "train_data = train_data.drop(columns=['Cabin'])\n",
    "test_data = test_data.drop(columns=['Cabin'])"
   ]
  },
  {
   "cell_type": "code",
   "execution_count": 4,
   "metadata": {},
   "outputs": [],
   "source": [
    "\"\"\"\n",
    "Next, for the 'Age' column, we will fill in the missing values \n",
    "by the mean age of women and men accordingly. \n",
    "\"\"\"\n",
    "\n",
    "mean_age_by_sex = train_data.groupby('Sex')['Age'].mean()\n",
    "\n",
    "train_data['Age'] = train_data['Age'].fillna(train_data['Sex'].map(mean_age_by_sex))\n",
    "train_data['Age'] = [int(x) for x in train_data['Age']]\n",
    "\n",
    "test_data['Age'] = test_data['Age'].fillna(test_data['Sex'].map(mean_age_by_sex))\n",
    "test_data['Age'] = [int(x) for x in test_data['Age']]"
   ]
  },
  {
   "cell_type": "code",
   "execution_count": 5,
   "metadata": {},
   "outputs": [],
   "source": [
    "\"\"\"\n",
    "For the `Embarked` column we only have 2 missing values. \n",
    "Since this column is categorical we cannot compute a mean value.\n",
    "Instead we will fill the missing values with the value of the most popular port (mode).\n",
    "\"\"\"\n",
    "most_popular_embarked = train_data[\"Embarked\"].mode()[0]\n",
    "train_data[\"Embarked\"] = train_data[\"Embarked\"].fillna(most_popular_embarked)"
   ]
  },
  {
   "cell_type": "code",
   "execution_count": 6,
   "metadata": {},
   "outputs": [],
   "source": [
    "\"\"\"\n",
    "For the `Fare` column we only have 1 missing value on the test set, \n",
    "which we fill based on the train set mean \n",
    "\"\"\"\n",
    "mean_fare = train_data[\"Fare\"].mean()\n",
    "test_data[\"Fare\"] = test_data[\"Fare\"].fillna(mean_fare)"
   ]
  },
  {
   "cell_type": "markdown",
   "metadata": {},
   "source": [
    "### Step 3. Feature Engineering"
   ]
  },
  {
   "cell_type": "markdown",
   "metadata": {},
   "source": [
    "- The first step lies in the implementation of **dummy variables**, meaning transforming categorical data into binary values, as Machine learning models rely on numerical input to make predictions and decisions."
   ]
  },
  {
   "cell_type": "code",
   "execution_count": 7,
   "metadata": {},
   "outputs": [],
   "source": [
    "train_data = pd.get_dummies(train_data, columns=[\"Embarked\", \"Pclass\"], drop_first=True) \n",
    "test_data = pd.get_dummies(test_data, columns=[\"Embarked\", \"Pclass\"], drop_first=True)\n",
    "\n",
    "train_data[\"Sex\"] = train_data[\"Sex\"].map({'male': 0, 'female': 1})\n",
    "test_data[\"Sex\"] = test_data[\"Sex\"].map({'male': 0, 'female': 1})\n"
   ]
  },
  {
   "cell_type": "markdown",
   "metadata": {},
   "source": [
    "- The second step involves **Feature Selection** meaning discarding less informative features to reduce model's complexiting and avoid potential overfitting. "
   ]
  },
  {
   "cell_type": "code",
   "execution_count": 9,
   "metadata": {},
   "outputs": [],
   "source": [
    "\"\"\"\n",
    "The following features should not be retained based on the given information \n",
    "\"\"\"\n",
    "train_data = train_data.drop(columns=[\"PassengerId\", \"Ticket\"])\n",
    "test_data = test_data.drop(columns=[\"PassengerId\", \"Ticket\"])"
   ]
  },
  {
   "cell_type": "markdown",
   "metadata": {},
   "source": [
    "- The last step involves **Feature Extraction** meaning creating new features from the existing ones by applying various mathematical and statistical techniques. "
   ]
  },
  {
   "cell_type": "code",
   "execution_count": 10,
   "metadata": {},
   "outputs": [
    {
     "name": "stdout",
     "output_type": "stream",
     "text": [
      "Title\n",
      "Mr              517\n",
      "Miss            182\n",
      "Mrs             125\n",
      "Master           40\n",
      "Dr                7\n",
      "Rev               6\n",
      "Mlle              2\n",
      "Major             2\n",
      "Col               2\n",
      "the Countess      1\n",
      "Capt              1\n",
      "Ms                1\n",
      "Sir               1\n",
      "Lady              1\n",
      "Mme               1\n",
      "Don               1\n",
      "Jonkheer          1\n",
      "Name: count, dtype: int64 \n",
      "\n",
      "Title\n",
      "Mr        240\n",
      "Miss       78\n",
      "Mrs        72\n",
      "Master     21\n",
      "Col         2\n",
      "Rev         2\n",
      "Ms          1\n",
      "Dr          1\n",
      "Dona        1\n",
      "Name: count, dtype: int64\n"
     ]
    }
   ],
   "source": [
    "\"\"\"\n",
    "Our goal is to isolate this title and subsequently examine the existing titles\n",
    "of the passengers. Based on these titles, we may be able to establish a\n",
    "correlation with survival or lack thereof.\n",
    "\"\"\"\n",
    "train_data[\"Title\"] = [x.split(\".\")[0].split(\",\")[1].strip() for x in train_data[\"Name\"]]\n",
    "test_data[\"Title\"] = [x.split(\".\")[0].split(\",\")[1].strip() for x in test_data[\"Name\"]]\n",
    "\n",
    "print(train_data[\"Title\"].value_counts(), \"\\n\")\n",
    "print(test_data[\"Title\"].value_counts())"
   ]
  },
  {
   "cell_type": "code",
   "execution_count": 11,
   "metadata": {},
   "outputs": [],
   "source": [
    "\"\"\"\n",
    "We observe that others than the usual Mr and Mrs (Miss) titles also exist.\n",
    "For that reason we create a new feature for passengers that have a special title\n",
    "\"\"\"\n",
    "condition = (train_data['Title'] != 'Mr') & (train_data['Title'] != 'Mrs') & (train_data['Title'] != 'Miss')\n",
    "train_data['Special_Title'] = np.where(condition, 1, 0)\n",
    "\n",
    "def is_special_title(title):\n",
    "    if title in ['Mr', 'Mrs', 'Miss']:\n",
    "        return 0\n",
    "    else:\n",
    "        return 1\n",
    "    \n",
    "test_data['Special_Title'] = test_data['Title'].apply(is_special_title)\n",
    "\n",
    "train_data = train_data.drop(columns=[\"Name\", \"Title\"])\n",
    "test_data = test_data.drop(columns=[\"Name\", \"Title\"])"
   ]
  },
  {
   "cell_type": "markdown",
   "metadata": {},
   "source": [
    "### Step 4. Feature Scaling\n",
    "\n",
    "This process prepares and standardizes the input features bringing them to a common scale and distribution before feeding them into machine-learning models."
   ]
  },
  {
   "cell_type": "code",
   "execution_count": 14,
   "metadata": {},
   "outputs": [],
   "source": [
    "y_train = train_data[\"Survived\"]\n",
    "X_train = train_data.drop(columns=[\"Survived\"])\n",
    "\n",
    "scaler = MinMaxScaler()\n",
    "# The MinMaxScaler scales the data between 0 and 1.\n",
    "X_train_scaled = scaler.fit_transform(X_train)\n",
    "X_test_scaled = scaler.transform(test_data)\n",
    "\n",
    "X_train_scaled_df = pd.DataFrame(X_train_scaled, columns=X_train.columns)\n",
    "X_test_scaled_df = pd.DataFrame(X_test_scaled, columns=test_data.columns)\n",
    "\n",
    "X_train_scaled_df = pd.concat([X_train_scaled_df, y_train], axis=1)\n"
   ]
  },
  {
   "cell_type": "markdown",
   "metadata": {},
   "source": [
    "### Step 5. Hyperparameter Tuning - GridSearchCV"
   ]
  },
  {
   "cell_type": "markdown",
   "metadata": {},
   "source": [
    "- In the first place, we use RandomForest algorithm with its **default parameters**"
   ]
  },
  {
   "cell_type": "code",
   "execution_count": 15,
   "metadata": {},
   "outputs": [
    {
     "name": "stdout",
     "output_type": "stream",
     "text": [
      "Scores for each fold: [0.83798883 0.82022472 0.80898876 0.78651685 0.78651685]\n",
      "Mean Accuracy Score: 0.8080472035653757\n"
     ]
    }
   ],
   "source": [
    "# Isolate the target variable named `Survived`\n",
    "y = X_train_scaled_df[\"Survived\"]\n",
    "X = X_train_scaled_df.drop(\"Survived\", axis=1)\n",
    "\n",
    "# Instantiate the model with default parameters -we only set `random_state` to ensure reproducibility\n",
    "clf = RandomForestClassifier(random_state=42)\n",
    "\n",
    "# Instantiate the cross validation strategy -Stratified with 5 folds\n",
    "stratified_kfold = StratifiedKFold(n_splits=5, shuffle=True, random_state=0)\n",
    "\n",
    "# Compute mean accuracy of model\n",
    "scores = cross_val_score(clf, X, y, cv=stratified_kfold, scoring='accuracy')\n",
    "\n",
    "print(f\"Scores for each fold: {scores}\")\n",
    "print(f\"Mean Accuracy Score: {scores.mean()}\")"
   ]
  },
  {
   "cell_type": "markdown",
   "metadata": {},
   "source": [
    "- Secondly we use **GridSearchCV**, a powerful tool in the scikit-learn (sklearn) library that simplifies the process of hyperparameter tuning for machine learning models. It automates the search for the best combination of hyperparameters to optimize the performance of a machine learning algorithm."
   ]
  },
  {
   "cell_type": "code",
   "execution_count": 16,
   "metadata": {},
   "outputs": [
    {
     "name": "stdout",
     "output_type": "stream",
     "text": [
      "Fitting 5 folds for each of 36 candidates, totalling 180 fits\n",
      "\n",
      "The parameters that achieved the best Accuracy Score: {'criterion': 'gini', 'max_depth': 4, 'n_estimators': 300}\n",
      "\n",
      "Mean cross-validated score of the best estimator: 0.8361370912058252\n"
     ]
    }
   ],
   "source": [
    "param_grid = {\n",
    "    \"n_estimators\": [100, 200, 300], # default 100\n",
    "    \"max_depth\": [None, 4, 8, 12], # default None\n",
    "    \"criterion\": [\"gini\", \"entropy\", \"log_loss\"] # default \"gini\"\n",
    "}\n",
    "\n",
    "# Instantiate again the same model with the same `random_state` in order to able to fairly compare the results\n",
    "clf = RandomForestClassifier(random_state=42)\n",
    "\n",
    "# Apply the model on each combination of the the above parameters - total number=3*4*3=36 candidates * 5 (folds)= 180fits.\n",
    "model = GridSearchCV(estimator=clf, param_grid=param_grid, cv=5, verbose=1)\n",
    "model.fit(X, y)\n",
    "\n",
    "print(f\"\\nThe parameters that achieved the best Accuracy Score: {model.best_params_}\\n\")\n",
    "print(f\"Mean cross-validated score of the best estimator: {model.best_score_}\")"
   ]
  },
  {
   "cell_type": "markdown",
   "metadata": {},
   "source": [
    "As shown above, we tested 36 different combinations, resulting in a total of 180 fits using 5-fold cross-validation . With this tuning, we managed to increase the accuracy of our model from 80.08% to 83.61%"
   ]
  },
  {
   "cell_type": "markdown",
   "metadata": {},
   "source": [
    "### Step 6. Feature Importance"
   ]
  },
  {
   "cell_type": "code",
   "execution_count": 33,
   "metadata": {},
   "outputs": [
    {
     "name": "stdout",
     "output_type": "stream",
     "text": [
      "Top 10 Features:\n",
      "         Feature  Importance\n",
      "0            Sex    0.472897\n",
      "4           Fare    0.165515\n",
      "8       Pclass_3    0.143489\n",
      "1            Age    0.086857\n",
      "2          SibSp    0.038507\n",
      "6     Embarked_S    0.025871\n",
      "3          Parch    0.024680\n",
      "7       Pclass_2    0.017792\n",
      "9  Special_Title    0.016738\n",
      "5     Embarked_Q    0.007654\n"
     ]
    },
    {
     "data": {
      "image/png": "[encoded data removed]",
      "text/plain": [
       "<Figure size 1000x600 with 1 Axes>"
      ]
     },
     "metadata": {},
     "output_type": "display_data"
    }
   ],
   "source": [
    "# Fit the model with the best hyperparameters\n",
    "best_rf_model = model.best_estimator_\n",
    "best_rf_model.fit(X,y)\n",
    "\n",
    "# Calculate feature importances\n",
    "feature_importances = best_rf_model.feature_importances_\n",
    "\n",
    "# Create a DataFrame to display feature importances\n",
    "feature_importances_df = pd.DataFrame({'Feature': X.columns, 'Importance': feature_importances})\n",
    "\n",
    "# Sort the DataFrame by importance in descending order\n",
    "feature_importances_df = feature_importances_df.sort_values('Importance', ascending=False)\n",
    "\n",
    "# Print the top N features contributing to the model's prediction\n",
    "top_n = 10\n",
    "print(f\"Top {top_n} Features:\")\n",
    "print(feature_importances_df.head(top_n))\n",
    "\n",
    "top_features = feature_importances_df.iloc[:top_n]\n",
    "plt.figure(figsize=(10,6))\n",
    "plt.barh(top_features.Feature, top_features.Importance, color='skyblue')\n",
    "plt.title(f'Top {top_n} Features')\n",
    "plt.xlabel('Feature Importance')\n",
    "plt.ylabel('Feature')\n",
    "plt.grid()\n",
    "plt.gca().invert_yaxis()\n",
    "plt.show()"
   ]
  },
  {
   "cell_type": "markdown",
   "metadata": {},
   "source": [
    "We can observe that the 'Sex' feature plays the most crucial role when the model predicts survival status. Additionally, 'Fare' and 'Pclass_3' also make significant contributions. Features with importance scores close to zero may be candidates for elimination in future experiments, as they appear to provide little to no value for our model's predictability."
   ]
  }
 ],
 "metadata": {
  "kernelspec": {
   "display_name": "dataanalytics",
   "language": "python",
   "name": "python3"
  },
  "language_info": {
   "codemirror_mode": {
    "name": "ipython",
    "version": 3
   },
   "file_extension": ".py",
   "mimetype": "text/x-python",
   "name": "python",
   "nbconvert_exporter": "python",
   "pygments_lexer": "ipython3",
   "version": "3.12.4"
  }
 },
 "nbformat": 4,
 "nbformat_minor": 2
}
